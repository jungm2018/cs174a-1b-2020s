{
 "cells": [
  {
   "cell_type": "markdown",
   "metadata": {
    "slideshow": {
     "slide_type": "slide"
    }
   },
   "source": [
    "# CS-174A Discussion 1B, Week 1\n",
    "\n",
    "@ Yunqi Guo\n",
    "\n",
    "@ Instructor: Dr. Asish Law\n",
    "\n",
    "@ https://github.com/luckiday/cs174a-1b-2020s"
   ]
  },
  {
   "cell_type": "markdown",
   "metadata": {
    "slideshow": {
     "slide_type": "slide"
    }
   },
   "source": [
    "# Outline\n",
    "\n",
    "- Geometry Review\n",
    "- Assigment 2 - Shapes\n",
    "- Course Project"
   ]
  },
  {
   "cell_type": "markdown",
   "metadata": {
    "slideshow": {
     "slide_type": "slide"
    }
   },
   "source": [
    "# Geometry Review Spaces\n",
    "\n",
    "- Vector Spaces\n",
    "- Affine Spaces\n",
    "- Euclidean Spaces\n",
    "- Homogeneous Coordinates\n",
    "- Coordinate System"
   ]
  },
  {
   "cell_type": "markdown",
   "metadata": {
    "slideshow": {
     "slide_type": "slide"
    }
   },
   "source": [
    "# Shapes in Computer Graphics\n",
    "\n",
    "- We're mostly trying to draw functions that are not linear or even polynomial.\n",
    "\n",
    "## Discretization\n",
    "\n",
    "- We don't know how to tell a computer to draw most shapes \n",
    "- Instead, we linearize those shapes: Break them up\n",
    "- Use a finite number of line segments between N discrete points"
   ]
  },
  {
   "cell_type": "markdown",
   "metadata": {
    "slideshow": {
     "slide_type": "subslide"
    }
   },
   "source": [
    "## Discretization\n",
    "<img src=\"https://upload.wikimedia.org/wikipedia/commons/a/a9/Finite_element_solution.svg\" alt=\"drawing\" width=\"400\"/>"
   ]
  },
  {
   "cell_type": "markdown",
   "metadata": {
    "slideshow": {
     "slide_type": "subslide"
    }
   },
   "source": [
    "# Demo\n",
    "\n",
    "- Creating shapes with tiny graphics"
   ]
  },
  {
   "cell_type": "markdown",
   "metadata": {
    "slideshow": {
     "slide_type": "slide"
    }
   },
   "source": [
    "# Quiz - Week 2\n",
    "\n",
    "1. What can you infer about the angle between 2 vectors ($u$ and $v$) for the following 3 cases:\n",
    "\n",
    "   a. $u\\cdot v = 0.3$\n",
    "\n",
    "   b. $u\\cdot v = -1.5$\n",
    "\n",
    "   c. $u\\cdot v = 0.0$\n",
    "\n",
    "2. Movies are generally produced on 35 mm film that has a resolution of approximately $3000\\times 2000$ pixels. What implication does this resolution have for producing animated images for television as compared with film?\n",
    "\n",
    "\n",
    "\n",
    "**Submit your answers to `CCLE-GradeScope-Quiz_Week2`**"
   ]
  },
  {
   "cell_type": "markdown",
   "metadata": {
    "slideshow": {
     "slide_type": "slide"
    }
   },
   "source": [
    "# Team Formation for Group Project\n",
    "\n",
    "- https://docs.google.com/spreadsheets/d/1mKDl3NKj0KZqB4Lm1myJt4Qd1AAX_vmYBM7xBqmxgrg/edit#gid=1929668533"
   ]
  }
 ],
 "metadata": {
  "celltoolbar": "Slideshow",
  "kernelspec": {
   "display_name": "Python 3",
   "language": "python",
   "name": "python3"
  },
  "language_info": {
   "codemirror_mode": {
    "name": "ipython",
    "version": 3
   },
   "file_extension": ".py",
   "mimetype": "text/x-python",
   "name": "python",
   "nbconvert_exporter": "python",
   "pygments_lexer": "ipython3",
   "version": "3.7.4"
  }
 },
 "nbformat": 4,
 "nbformat_minor": 2
}
