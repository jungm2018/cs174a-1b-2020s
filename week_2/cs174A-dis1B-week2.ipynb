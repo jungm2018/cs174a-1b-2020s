{
 "cells": [
  {
   "cell_type": "markdown",
   "metadata": {
    "slideshow": {
     "slide_type": "slide"
    }
   },
   "source": [
    "# CS-174A Discussion 1B, Week 1\n",
    "\n",
    "@ Yunqi Guo\n",
    "\n",
    "@ Instructor: Dr. Asish Law\n",
    "\n",
    "@ https://github.com/luckiday/cs174a-1b-2020s"
   ]
  },
  {
   "cell_type": "markdown",
   "metadata": {
    "slideshow": {
     "slide_type": "slide"
    }
   },
   "source": [
    "# Outline\n",
    "\n",
    "- Geometry Review\n",
    "- Assignment 2\n",
    "- Course Project"
   ]
  },
  {
   "cell_type": "markdown",
   "metadata": {
    "slideshow": {
     "slide_type": "slide"
    }
   },
   "source": [
    "# Geometry Review Spaces\n",
    "\n",
    "- Vector Spaces\n",
    "- Affine Spaces\n",
    "- Euclidean Spaces\n",
    "- Homogeneous Coordinates\n",
    "- Coordinate System"
   ]
  },
  {
   "cell_type": "markdown",
   "metadata": {
    "slideshow": {
     "slide_type": "subslide"
    }
   },
   "source": [
    "## Homogeneous Coordinates\n",
    "\n",
    "### Vectors and Points are represented as 4x1 column matrices:\n",
    "  $$\n",
    "  \\mathbf{v} = \\begin{bmatrix}\n",
    "  v_1\\\\\n",
    "  v_2\\\\\n",
    "  v_3\\\\\n",
    "  0\n",
    "  \\end{bmatrix}, \n",
    "  P = \\begin{bmatrix}\n",
    "  p_1\\\\\n",
    "  p_2\\\\\n",
    "  p_3\\\\\n",
    "  1\n",
    "  \\end{bmatrix}\n",
    "  $$"
   ]
  },
  {
   "cell_type": "markdown",
   "metadata": {
    "slideshow": {
     "slide_type": "subslide"
    }
   },
   "source": [
    "### Coordinate Systems\n",
    "\n",
    "$$\n",
    "\\mathbf{v} = v_1 \\mathbf{a} + v_2 \\mathbf{b} + v_3 \\mathbf{c} = \n",
    "\\begin{bmatrix}\n",
    "\\mathbf{a} & \\mathbf{b} & \\mathbf{c} & O\n",
    "\\end{bmatrix}\n",
    "\\begin{bmatrix}\n",
    "v_1 \\\\ v_2 \\\\ v_3 \\\\ 0\n",
    "\\end{bmatrix},\n",
    "$$\n",
    "$$\n",
    "P = O + p_1 \\mathbf{a} + p_2 \\mathbf{b} + p_3 \\mathbf{c} = \n",
    "\\begin{bmatrix}\n",
    "\\mathbf{a} & \\mathbf{b} & \\mathbf{c} & O\n",
    "\\end{bmatrix}\n",
    "\\begin{bmatrix}\n",
    "p_1 \\\\ p_2 \\\\ p_3 \\\\ 1\n",
    "\\end{bmatrix}\n",
    "$$\n",
    "<img src=\"figures/coord.png\" alt=\"drawing\" width=\"300\"/>"
   ]
  },
  {
   "cell_type": "markdown",
   "metadata": {
    "slideshow": {
     "slide_type": "subslide"
    }
   },
   "source": [
    "### Linear Combination, Affine Combinations, and Convex Combination\n",
    "\n",
    "- Linear combination\n",
    "\n",
    "  $\n",
    "  \\mathbf{w} = a_1\\mathbf{v_1} + \\dots + a_m\\mathbf{v_m}, ~~a_1,\\dots, a_m \\in \\mathbb{R}\n",
    "  $\n",
    "\n",
    "\n",
    "- Affine combination\n",
    "\n",
    "  A linear combination for which  $a_1+ \\dots + a_m=1$\n",
    "    \n",
    "    \n",
    "- Convex combination\n",
    "\n",
    "  An affine combination for which $a_i≥0$ for $i=1,\\dots,m$"
   ]
  },
  {
   "cell_type": "markdown",
   "metadata": {
    "slideshow": {
     "slide_type": "slide"
    }
   },
   "source": [
    "# Drawing Shapes with Computer Graphics\n",
    "\n",
    "- We're mostly trying to draw functions that are not linear or even polynomial.\n",
    "\n",
    "## Discretization\n",
    "\n",
    "- We don't know how to tell a computer to draw most shapes \n",
    "- Instead, we linearize those shapes: Break them up\n",
    "- Use a finite number of line segments between N discrete points"
   ]
  },
  {
   "cell_type": "markdown",
   "metadata": {
    "slideshow": {
     "slide_type": "subslide"
    }
   },
   "source": [
    "## Discretization\n",
    "<img src=\"https://upload.wikimedia.org/wikipedia/commons/a/a9/Finite_element_solution.svg\" alt=\"drawing\" width=\"400\"/>"
   ]
  },
  {
   "cell_type": "markdown",
   "metadata": {
    "slideshow": {
     "slide_type": "subslide"
    }
   },
   "source": [
    "# Demo\n",
    "\n",
    "- Creating shapes with tiny graphics"
   ]
  },
  {
   "cell_type": "markdown",
   "metadata": {
    "slideshow": {
     "slide_type": "slide"
    }
   },
   "source": [
    "# Quiz - Week 2\n",
    "\n",
    "1. What can you infer about the angle between 2 vectors ($u$ and $v$) for the following 3 cases:\n",
    "\n",
    "   a. $u\\cdot v = 0.3$\n",
    "\n",
    "   b. $u\\cdot v = -1.5$\n",
    "\n",
    "   c. $u\\cdot v = 0.0$\n",
    "\n",
    "2. Movies are generally produced on 35 mm film that has a resolution of approximately $3000\\times 2000$ pixels. What implication does this resolution have for producing animated images for television as compared with film?"
   ]
  },
  {
   "cell_type": "markdown",
   "metadata": {
    "slideshow": {
     "slide_type": "slide"
    }
   },
   "source": [
    "# Group Project Team Formation"
   ]
  }
 ],
 "metadata": {
  "celltoolbar": "Slideshow",
  "kernelspec": {
   "display_name": "Python 3",
   "language": "python",
   "name": "python3"
  },
  "language_info": {
   "codemirror_mode": {
    "name": "ipython",
    "version": 3
   },
   "file_extension": ".py",
   "mimetype": "text/x-python",
   "name": "python",
   "nbconvert_exporter": "python",
   "pygments_lexer": "ipython3",
   "version": "3.7.4"
  }
 },
 "nbformat": 4,
 "nbformat_minor": 2
}
