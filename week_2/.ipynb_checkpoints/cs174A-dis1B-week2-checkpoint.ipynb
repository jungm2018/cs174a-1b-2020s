{
 "cells": [
  {
   "cell_type": "markdown",
   "metadata": {
    "slideshow": {
     "slide_type": "slide"
    }
   },
   "source": [
    "# CS-174A Discussion 1A, Week 2\n",
    "\n",
    "@ Yunqi Guo\n",
    "\n",
    "@ BOELTER 9436 / Friday / 10:00 am - 11:50 am\n",
    "\n",
    "@ https://github.com/luckiday/cs174a-1a-2020w"
   ]
  },
  {
   "cell_type": "markdown",
   "metadata": {
    "slideshow": {
     "slide_type": "slide"
    }
   },
   "source": [
    "# Outline\n",
    "\n",
    "- Course Review\n",
    "- Assignment 2\n",
    "- Course Project Suggestions"
   ]
  },
  {
   "cell_type": "markdown",
   "metadata": {
    "slideshow": {
     "slide_type": "slide"
    }
   },
   "source": [
    "# Linear Algebra Review\n",
    "\n",
    "- Homogeneous coordinates\n",
    "- Affine Combinations"
   ]
  },
  {
   "cell_type": "markdown",
   "metadata": {
    "slideshow": {
     "slide_type": "subslide"
    }
   },
   "source": [
    "## Homogeneous coordinates\n",
    "\n",
    "### Vectors and Points are represented as 4x1 column matrices:\n",
    "  $$\n",
    "  \\mathbf{v} = \\begin{bmatrix}\n",
    "  v_1\\\\\n",
    "  v_2\\\\\n",
    "  v_3\\\\\n",
    "  0\n",
    "  \\end{bmatrix}, \n",
    "  P = \\begin{bmatrix}\n",
    "  p_1\\\\\n",
    "  p_2\\\\\n",
    "  p_3\\\\\n",
    "  1\n",
    "  \\end{bmatrix}\n",
    "  $$,"
   ]
  },
  {
   "cell_type": "markdown",
   "metadata": {
    "slideshow": {
     "slide_type": "subslide"
    }
   },
   "source": [
    "### Coordinate Systems\n",
    "\n",
    "$$\n",
    "\\mathbf{v} = v_1 \\mathbf{a} + v_2 \\mathbf{b} + v_3 \\mathbf{c} = \n",
    "\\begin{bmatrix}\n",
    "\\mathbf{a} & \\mathbf{c} & \\mathbf{c} & O\n",
    "\\end{bmatrix}\n",
    "\\begin{bmatrix}\n",
    "v_1 \\\\ v_2 \\\\ v_3 \\\\ 0\n",
    "\\end{bmatrix},\n",
    "$$\n",
    "$$\n",
    "P = O + p_1 \\mathbf{a} + p_2 \\mathbf{b} + p_3 \\mathbf{c} = \n",
    "\\begin{bmatrix}\n",
    "\\mathbf{a} & \\mathbf{c} & \\mathbf{c} & O\n",
    "\\end{bmatrix}\n",
    "\\begin{bmatrix}\n",
    "p_1 \\\\ p_2 \\\\ p_3 \\\\ 1\n",
    "\\end{bmatrix}\n",
    "$$\n",
    "<img src=\"figures/coord.png\" alt=\"drawing\" width=\"300\"/>"
   ]
  },
  {
   "cell_type": "markdown",
   "metadata": {
    "slideshow": {
     "slide_type": "subslide"
    }
   },
   "source": [
    "### Linear Combination, Affine Combinations, and Convex Combination\n",
    "\n",
    "- Linear combination\n",
    "\n",
    "  $\n",
    "  \\mathbf{w} = a_1\\mathbf{v_1} + \\dots + a_m\\mathbf{v_m}, ~~a_1,\\dots, a_m \\in \\mathbb{R}\n",
    "  $\n",
    "\n",
    "\n",
    "- Affine combination\n",
    "\n",
    "  A linear combination for which  $a_1+ \\dots + a_m=1$\n",
    "    \n",
    "    \n",
    "- Convex combination\n",
    "\n",
    "  An affine combination for which $a_i≥0$ for $i=1,\\dots,m$"
   ]
  },
  {
   "cell_type": "markdown",
   "metadata": {
    "slideshow": {
     "slide_type": "slide"
    }
   },
   "source": [
    "# Drawing Shapes with Computer Graphics\n",
    "\n",
    "- We're mostly trying to draw functions that are not linear or even polynomial.\n",
    "\n",
    "## Discretization\n",
    "\n",
    "- We don't know how to tell a computer to draw most shapes \n",
    "- Instead, we linearize those shapes: Break them up\n",
    "- Use a finite number of line segments between N discrete points"
   ]
  },
  {
   "cell_type": "markdown",
   "metadata": {
    "slideshow": {
     "slide_type": "subslide"
    }
   },
   "source": [
    "## Discretization\n",
    "<img src=\"https://upload.wikimedia.org/wikipedia/commons/a/a9/Finite_element_solution.svg\" alt=\"drawing\" width=\"400\"/>"
   ]
  },
  {
   "cell_type": "markdown",
   "metadata": {
    "slideshow": {
     "slide_type": "subslide"
    }
   },
   "source": [
    "### Demo"
   ]
  },
  {
   "cell_type": "markdown",
   "metadata": {
    "slideshow": {
     "slide_type": "slide"
    }
   },
   "source": [
    "# Group Project Discussion\n",
    "\n",
    "- What is like to be a decent project\n"
   ]
  },
  {
   "cell_type": "markdown",
   "metadata": {
    "slideshow": {
     "slide_type": "subslide"
    }
   },
   "source": [
    "## Average Project\n",
    "\n",
    "<img src=\"figures/project1.png\" alt=\"drawing\" width=\"400\"/>\n",
    "\n",
    "https://getsetproject.com/info-project.php?id=314&name=Traffic%20Signal%20Cg%20mini%20Project%20using%20OpenGL"
   ]
  },
  {
   "cell_type": "markdown",
   "metadata": {
    "slideshow": {
     "slide_type": "subslide"
    }
   },
   "source": [
    "# Some Cool Project Your Classmates May Build\n",
    "\n",
    "Demo"
   ]
  }
 ],
 "metadata": {
  "celltoolbar": "Slideshow",
  "kernelspec": {
   "display_name": "Python 3",
   "language": "python",
   "name": "python3"
  },
  "language_info": {
   "codemirror_mode": {
    "name": "ipython",
    "version": 3
   },
   "file_extension": ".py",
   "mimetype": "text/x-python",
   "name": "python",
   "nbconvert_exporter": "python",
   "pygments_lexer": "ipython3",
   "version": "3.7.4"
  }
 },
 "nbformat": 4,
 "nbformat_minor": 2
}
