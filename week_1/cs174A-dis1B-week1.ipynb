{
 "cells": [
  {
   "cell_type": "markdown",
   "metadata": {
    "slideshow": {
     "slide_type": "slide"
    }
   },
   "source": [
    "# CS-174A Discussion 1B, Week 1\n",
    "\n",
    "@ Yunqi Guo\n",
    "\n",
    "@ Instructor: Dr. Asish Law\n",
    "\n",
    "@ https://github.com/luckiday/cs174a-1b-2020s"
   ]
  },
  {
   "cell_type": "markdown",
   "metadata": {
    "slideshow": {
     "slide_type": "slide"
    }
   },
   "source": [
    "# Outline\n",
    "\n",
    "- About this course\n",
    "- JavaScript and WebGL Basics\n",
    "- Assignment 1"
   ]
  },
  {
   "cell_type": "markdown",
   "metadata": {
    "slideshow": {
     "slide_type": "slide"
    }
   },
   "source": [
    "# CS-174A Introduction\n",
    "\n",
    "\n",
    "## About Me: \n",
    "\n",
    "- Yunqi Guo, Ph.D student in Computer Science\n",
    "\n",
    "- Office hours: Tuesday 9:30 - 11:30 AM\n",
    "  https://ucla.zoom.us/j/387952405\n",
    "  \n",
    "- Email: guoyunqi@gmail.com"
   ]
  },
  {
   "cell_type": "markdown",
   "metadata": {
    "slideshow": {
     "slide_type": "subslide"
    }
   },
   "source": [
    "## Tools\n",
    "\n",
    "- CCLE\n",
    "\n",
    "- Piazza\n",
    "  (piazza.com/ucla/spring2020/cs174a)\n",
    "  \n",
    "- GitHub\n",
    "  (https://classroom.github.com/a/v1j2vhVd)"
   ]
  },
  {
   "cell_type": "markdown",
   "metadata": {
    "slideshow": {
     "slide_type": "subslide"
    }
   },
   "source": [
    "# Purpose of CS174A Discussions\n",
    "\n",
    "- Review the lectures\n",
    "- Introduce the assignments\n",
    "- Help with the course projects"
   ]
  },
  {
   "cell_type": "markdown",
   "metadata": {
    "slideshow": {
     "slide_type": "subslide"
    }
   },
   "source": [
    "## What we can learn during this course\n",
    "\n",
    "- Math\n",
    "- https://drive.google.com/file/d/1NTtpKI9if_a2ZdCu6Jx_iJwfDQpW9oVN/view\n",
    "- Some other demos"
   ]
  },
  {
   "cell_type": "markdown",
   "metadata": {
    "slideshow": {
     "slide_type": "slide"
    }
   },
   "source": [
    "# JavaScript Basics\n",
    "\n",
    "- JavaScript is a programming language that adds interactivity to your website!"
   ]
  },
  {
   "cell_type": "code",
   "execution_count": 21,
   "metadata": {
    "slideshow": {
     "slide_type": "fragment"
    }
   },
   "outputs": [
    {
     "data": {
      "text/html": [
       "\n",
       "<p id=\"demo\">JavaScript can change HTML content.</p>\n",
       "<button type=\"button\" onclick='document.getElementById(\"demo\").innerHTML = \"Hello JavaScript!\"'>Click Me!</button>\n"
      ],
      "text/plain": [
       "<IPython.core.display.HTML object>"
      ]
     },
     "metadata": {},
     "output_type": "display_data"
    }
   ],
   "source": [
    "%%html\n",
    "\n",
    "<p id=\"demo\">JavaScript can change HTML content.</p>\n",
    "<button type=\"button\" onclick='document.getElementById(\"demo\").innerHTML = \"Hello JavaScript!\"'>Click Me!</button>"
   ]
  },
  {
   "cell_type": "markdown",
   "metadata": {
    "slideshow": {
     "slide_type": "subslide"
    }
   },
   "source": [
    "# JavaScript Basics\n",
    "\n",
    "- Variable\n",
    "- Function\n",
    "- Class"
   ]
  },
  {
   "cell_type": "markdown",
   "metadata": {
    "slideshow": {
     "slide_type": "subslide"
    }
   },
   "source": [
    "## Variable and Data types\n",
    "\n",
    "JavaScript variables can hold many **data types**: numbers, strings, objects and more:\n",
    "```js\n",
    "let length = 16;                            // Number\n",
    "let lastName = \"Johnson\";                   // String\n",
    "let x = {firstName:\"John\", lastName:\"Doe\"}; // Object\n",
    "```\n"
   ]
  },
  {
   "cell_type": "code",
   "execution_count": 22,
   "metadata": {
    "slideshow": {
     "slide_type": "fragment"
    }
   },
   "outputs": [
    {
     "data": {
      "application/javascript": [
       "\n",
       "let num = 16;                                  // Number\n",
       "element.text(\"The number is \" + num)\n"
      ],
      "text/plain": [
       "<IPython.core.display.Javascript object>"
      ]
     },
     "metadata": {},
     "output_type": "display_data"
    }
   ],
   "source": [
    "%%js\n",
    "\n",
    "let num = 16;                                  // Number\n",
    "element.text(\"The number is \" + num)"
   ]
  },
  {
   "cell_type": "markdown",
   "metadata": {
    "slideshow": {
     "slide_type": "subslide"
    }
   },
   "source": [
    "## var, const and let\n"
   ]
  },
  {
   "cell_type": "markdown",
   "metadata": {
    "slideshow": {
     "slide_type": "fragment"
    }
   },
   "source": [
    "\n",
    "- var: function-scoped\n",
    "- [ES6] const, let: block-scoped"
   ]
  },
  {
   "cell_type": "code",
   "execution_count": 24,
   "metadata": {
    "slideshow": {
     "slide_type": "fragment"
    }
   },
   "outputs": [
    {
     "data": {
      "application/javascript": [
       "\n",
       "function start(){\n",
       "    for (let i = 0; i < 5; i++){\n",
       "\n",
       "    }\n",
       "    element.text(i); \n",
       "}\n",
       "\n",
       "start()\n"
      ],
      "text/plain": [
       "<IPython.core.display.Javascript object>"
      ]
     },
     "metadata": {},
     "output_type": "display_data"
    }
   ],
   "source": [
    "%%js\n",
    "\n",
    "function start(){\n",
    "    for (let i = 0; i < 5; i++){\n",
    "    }\n",
    "    element.text(i); \n",
    "}\n",
    "\n",
    "start()"
   ]
  },
  {
   "cell_type": "markdown",
   "metadata": {
    "slideshow": {
     "slide_type": "subslide"
    }
   },
   "source": [
    "## Objects\n",
    "\n",
    "You define (and create) a JavaScript object with an object literal:\n",
    "\n",
    "```js\n",
    "let person = {firstName:\"John\", lastName:\"Doe\", age:50, eyeColor:\"blue\"};\n",
    "```"
   ]
  },
  {
   "cell_type": "code",
   "execution_count": 31,
   "metadata": {
    "scrolled": true,
    "slideshow": {
     "slide_type": "fragment"
    }
   },
   "outputs": [
    {
     "data": {
      "application/javascript": [
       "let person = {firstName:\"John\", lastName:\"Doe\", age:50, eyeColor:\"blue\"};\n",
       "// element.text(person.firstName + \"'s age is \" + person[\"age\"]);  \n",
       "\n",
       "// two ways for accessing the property of an object\n",
       "let name = new String(\"John\");\n",
       "let name_2 = \"John\";\n",
       "\n",
       "// element.text(name === name_2)\n",
       "element.text(typeof name_2)\n"
      ],
      "text/plain": [
       "<IPython.core.display.Javascript object>"
      ]
     },
     "metadata": {},
     "output_type": "display_data"
    }
   ],
   "source": [
    "%%js\n",
    "let person = {firstName:\"John\", lastName:\"Doe\", age:50, eyeColor:\"blue\"};\n",
    "// element.text(person.firstName + \"'s age is \" + person[\"age\"]);  \n",
    "\n",
    "// two ways for accessing the property of an object\n",
    "let name = new String(\"John\");\n",
    "let name_2 = \"John\";\n",
    "\n",
    "// element.text(name === name_2)\n",
    "element.text(typeof name_2)"
   ]
  },
  {
   "cell_type": "markdown",
   "metadata": {
    "slideshow": {
     "slide_type": "subslide"
    }
   },
   "source": [
    "## Functions\n",
    "\n",
    "A JavaScript function is a block of code designed to perform a particular task.\n",
    "\n",
    "A JavaScript function is executed when \"something\" invokes it (calls it)."
   ]
  },
  {
   "cell_type": "code",
   "execution_count": 32,
   "metadata": {
    "slideshow": {
     "slide_type": "fragment"
    }
   },
   "outputs": [
    {
     "data": {
      "application/javascript": [
       "function myFunction(p1, p2) {\n",
       "  return p1 * p2;   // The function returns the product of p1 and p2\n",
       "}\n",
       "\n",
       "let a = 3;\n",
       "let b = 4;\n",
       "element.text(\"The product of a and b is \" + myFunction(a,b))\n"
      ],
      "text/plain": [
       "<IPython.core.display.Javascript object>"
      ]
     },
     "metadata": {},
     "output_type": "display_data"
    }
   ],
   "source": [
    "%%js\n",
    "function myFunction(p1, p2) {\n",
    "  return p1 * p2;   // The function returns the product of p1 and p2\n",
    "}\n",
    "\n",
    "let a = 3;\n",
    "let b = 4;\n",
    "element.text(\"The product of a and b is \" + myFunction(a,b))"
   ]
  },
  {
   "cell_type": "markdown",
   "metadata": {
    "slideshow": {
     "slide_type": "subslide"
    }
   },
   "source": [
    "### Arrow Function\n",
    "JavaScript arrow functions are roughly the equivalent of lambda functions in python or blocks in Ruby."
   ]
  },
  {
   "cell_type": "code",
   "execution_count": 33,
   "metadata": {
    "scrolled": true,
    "slideshow": {
     "slide_type": "fragment"
    }
   },
   "outputs": [
    {
     "data": {
      "application/javascript": [
       "\n",
       "const add = (a, b) => a + b;\n",
       "element.text(add(1,2))\n"
      ],
      "text/plain": [
       "<IPython.core.display.Javascript object>"
      ]
     },
     "metadata": {},
     "output_type": "display_data"
    }
   ],
   "source": [
    "%%js\n",
    "\n",
    "const add = (a, b) => a + b;\n",
    "element.text(add(1,2))"
   ]
  },
  {
   "cell_type": "markdown",
   "metadata": {
    "slideshow": {
     "slide_type": "subslide"
    }
   },
   "source": [
    "## Object Methods\n"
   ]
  },
  {
   "cell_type": "code",
   "execution_count": 34,
   "metadata": {
    "slideshow": {
     "slide_type": "-"
    }
   },
   "outputs": [
    {
     "data": {
      "application/javascript": [
       "let person = {\n",
       "  firstName: \"John\",\n",
       "  lastName : \"Doe\",\n",
       "  id       : 5566,\n",
       "  fullName : function() {\n",
       "    return this.firstName + \" \" + this.lastName;\n",
       "  }\n",
       "};\n",
       "\n",
       "element.text(person.fullName())\n"
      ],
      "text/plain": [
       "<IPython.core.display.Javascript object>"
      ]
     },
     "metadata": {},
     "output_type": "display_data"
    }
   ],
   "source": [
    "%%js\n",
    "let person = {\n",
    "  firstName: \"John\",\n",
    "  lastName : \"Doe\",\n",
    "  id       : 5566,\n",
    "  fullName : function() {\n",
    "    return this.firstName + \" \" + this.lastName;\n",
    "  }\n",
    "};\n",
    "\n",
    "element.text(person.fullName())"
   ]
  },
  {
   "cell_type": "markdown",
   "metadata": {
    "slideshow": {
     "slide_type": "subslide"
    }
   },
   "source": [
    "## JavaScript Classes\n",
    "\n",
    "ES6, also known as ECMAScript2015, introduced classes.\n",
    "\n",
    "A class is a type of function, but instead of using the keyword `function` to initiate it, we use the keyword `class`, and the properties is assigned inside a `constructor()` method."
   ]
  },
  {
   "cell_type": "markdown",
   "metadata": {
    "slideshow": {
     "slide_type": "subslide"
    }
   },
   "source": [
    "### Class Definition\n",
    "Use the keyword `class` to create a class, and always add a `constructor` method.\n",
    "\n",
    "The `constructor` method is called each time the class object is initialized.\n",
    "\n",
    "```js\n",
    "class Car {\n",
    "  constructor(brand) {\n",
    "    this.carname = brand;\n",
    "  }\n",
    "}\n",
    "mycar = new Car(\"Ford\");\n",
    "```"
   ]
  },
  {
   "cell_type": "code",
   "execution_count": 36,
   "metadata": {
    "slideshow": {
     "slide_type": "fragment"
    }
   },
   "outputs": [
    {
     "data": {
      "application/javascript": [
       "class Car {\n",
       "  constructor(brand) {\n",
       "    this.carname = brand;\n",
       "  }\n",
       "}\n",
       "let mycar = new Car(\"Ford\");\n",
       "element.text(typeof mycar)\n"
      ],
      "text/plain": [
       "<IPython.core.display.Javascript object>"
      ]
     },
     "metadata": {},
     "output_type": "display_data"
    }
   ],
   "source": [
    "%%js\n",
    "class Car {\n",
    "  constructor(brand) {\n",
    "    this.carname = brand;\n",
    "  }\n",
    "}\n",
    "let mycar = new Car(\"Ford\");\n",
    "element.text(typeof mycar)"
   ]
  },
  {
   "cell_type": "markdown",
   "metadata": {
    "slideshow": {
     "slide_type": "subslide"
    }
   },
   "source": [
    "## A Quick Way to Learn JS\n",
    "\n",
    "- https://www.w3schools.com/js/"
   ]
  },
  {
   "cell_type": "markdown",
   "metadata": {
    "slideshow": {
     "slide_type": "slide"
    }
   },
   "source": [
    "# WebGL Basics\n",
    "\n",
    "WebGL (Web Graphics Library) is a JavaScript API for rendering interactive 3D and 2D graphics within any compatible web browser without the use of plug-ins. WebGL does so by introducing an API that closely conforms to OpenGL ES 2.0 that can be used in HTML5 `<canvas>` elements.\n",
    "\n",
    "- [Demo 0: Clearing with colors](demo_0/demo.html). How to clear the rendering context with a solid color.\n",
    "- [Demo 1: Simple color animation](demo_1/index.html). A very basic color animation."
   ]
  },
  {
   "cell_type": "markdown",
   "metadata": {
    "slideshow": {
     "slide_type": "subslide"
    }
   },
   "source": [
    "## ... and some other projects\n",
    "- [WebGL Wather](http://madebyevan.com/webgl-water/)\n",
    "- [Make me pulse wish 2017](http://2017.makemepulse.com)"
   ]
  },
  {
   "cell_type": "markdown",
   "metadata": {
    "slideshow": {
     "slide_type": "slide"
    }
   },
   "source": [
    "# Assignment 1: Environment Setup and Creating a Simple Rectangle\n",
    "\n",
    "- https://www.jetbrains.com/webstorm/\n",
    "- https://classroom.github.com/a/v1j2vhVd\n",
    "- [**Demo**](https://classroom.github.com/classrooms/55804222-cs174a-s20-intro-graphics/assignments/A1) "
   ]
  }
 ],
 "metadata": {
  "celltoolbar": "Slideshow",
  "kernelspec": {
   "display_name": "Python 3",
   "language": "python",
   "name": "python3"
  },
  "language_info": {
   "codemirror_mode": {
    "name": "ipython",
    "version": 3
   },
   "file_extension": ".py",
   "mimetype": "text/x-python",
   "name": "python",
   "nbconvert_exporter": "python",
   "pygments_lexer": "ipython3",
   "version": "3.7.4"
  }
 },
 "nbformat": 4,
 "nbformat_minor": 2
}
